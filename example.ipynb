{
 "cells": [
  {
   "cell_type": "code",
   "execution_count": 11,
   "metadata": {},
   "outputs": [],
   "source": [
    "import requests\n",
    "from pprint import pprint\n",
    "from dotenv import dotenv_values\n",
    "\n",
    "config = dotenv_values(\".env\")\n",
    "base_url = f'{config[\"FASTAPI_URL\"]}/flower'"
   ]
  },
  {
   "cell_type": "code",
   "execution_count": 12,
   "metadata": {},
   "outputs": [
    {
     "name": "stdout",
     "output_type": "stream",
     "text": [
      "http://localhost:8000/flower\n"
     ]
    }
   ],
   "source": [
    "print(base_url)"
   ]
  },
  {
   "cell_type": "code",
   "execution_count": 13,
   "metadata": {},
   "outputs": [],
   "source": [
    "def list_all_flowers():\n",
    "    url = base_url + \"/\"\n",
    "    response = requests.get(url)\n",
    "    pprint(response.json())\n",
    "    return response.json()\n",
    "\n",
    "def create_flower(payload):\n",
    "    url = base_url + \"/\"\n",
    "    response = requests.post(url, json=payload)\n",
    "    pprint(response.json())\n",
    "    return response.json()[\"_id\"]\n",
    "\n",
    "def find_flower_by_id(flower_id):\n",
    "    url = f\"{base_url}/{flower_id}\"\n",
    "    response = requests.get(url)\n",
    "    pprint(response.json())\n",
    "\n",
    "def update_flower_by_id(flower_id, payload):\n",
    "    url = f\"{base_url}/{flower_id}\"\n",
    "    response = requests.put(url, json=payload)\n",
    "    pprint(response.json())\n",
    "\n",
    "def delete_flower_by_id(flower_id):\n",
    "    url = f\"{base_url}/{flower_id}\"\n",
    "    response = requests.delete(url)\n",
    "    if response.status_code == 204:\n",
    "        print(f\"Flower with ID {flower_id} has been deleted successfully.\")\n",
    "    else:\n",
    "        print(f\"Failed to delete flower with ID {flower_id}. Status code: {response.status_code}, Response: {response.text}\")"
   ]
  },
  {
   "cell_type": "code",
   "execution_count": 14,
   "metadata": {},
   "outputs": [
    {
     "name": "stdout",
     "output_type": "stream",
     "text": [
      "[{'_id': '64c460416ec54257671e21f9',\n",
      "  'petal': {'length': 1.4, 'width': 0.2},\n",
      "  'sepal': {'length': 5.1, 'width': 3.5},\n",
      "  'species': 'Iris-setosa'},\n",
      " {'_id': '64c460416ec54257671e21fa',\n",
      "  'petal': {'length': 1.4, 'width': 0.2},\n",
      "  'sepal': {'length': 4.9, 'width': 3.0},\n",
      "  'species': 'Iris-setosa'},\n",
      " {'_id': '64c460416ec54257671e21fb',\n",
      "  'petal': {'length': 1.3, 'width': 0.2},\n",
      "  'sepal': {'length': 4.7, 'width': 3.2},\n",
      "  'species': 'Iris-setosa'},\n",
      " {'_id': '64c460416ec54257671e21fc',\n",
      "  'petal': {'length': 1.5, 'width': 0.2},\n",
      "  'sepal': {'length': 4.6, 'width': 3.1},\n",
      "  'species': 'Iris-setosa'},\n",
      " {'_id': '64c460416ec54257671e21fd',\n",
      "  'petal': {'length': 1.4, 'width': 0.2},\n",
      "  'sepal': {'length': 5.0, 'width': 3.6},\n",
      "  'species': 'Iris-setosa'},\n",
      " {'_id': '64c460416ec54257671e21fe',\n",
      "  'petal': {'length': 1.7, 'width': 0.4},\n",
      "  'sepal': {'length': 5.4, 'width': 3.9},\n",
      "  'species': 'Iris-setosa'},\n",
      " {'_id': '64c460416ec54257671e21ff',\n",
      "  'petal': {'length': 1.4, 'width': 0.3},\n",
      "  'sepal': {'length': 4.6, 'width': 3.4},\n",
      "  'species': 'Iris-setosa'},\n",
      " {'_id': '64c460416ec54257671e2200',\n",
      "  'petal': {'length': 1.5, 'width': 0.2},\n",
      "  'sepal': {'length': 5.0, 'width': 3.4},\n",
      "  'species': 'Iris-setosa'},\n",
      " {'_id': '64c460416ec54257671e2201',\n",
      "  'petal': {'length': 1.4, 'width': 0.2},\n",
      "  'sepal': {'length': 4.4, 'width': 2.9},\n",
      "  'species': 'Iris-setosa'},\n",
      " {'_id': '64c460416ec54257671e2202',\n",
      "  'petal': {'length': 1.5, 'width': 0.1},\n",
      "  'sepal': {'length': 4.9, 'width': 3.1},\n",
      "  'species': 'Iris-setosa'}]\n"
     ]
    }
   ],
   "source": [
    "# List all flowers (limited to 10)\n",
    "flowers = list_all_flowers()"
   ]
  },
  {
   "cell_type": "code",
   "execution_count": 15,
   "metadata": {},
   "outputs": [
    {
     "name": "stdout",
     "output_type": "stream",
     "text": [
      "{'_id': '64c6958fd5c48ec36bd44b97',\n",
      " 'petal': {'length': 1.4, 'width': 0.2},\n",
      " 'sepal': {'length': 5.1, 'width': 3.5},\n",
      " 'species': 'Iris-example'}\n",
      "ID: 64c6958fd5c48ec36bd44b97\n"
     ]
    }
   ],
   "source": [
    "# Create a new flower\n",
    "new_flower = {\n",
    "    \"sepal\": {\n",
    "        \"length\": 5.1,\n",
    "        \"width\": 3.5\n",
    "    },\n",
    "    \"petal\": {\n",
    "        \"length\": 1.4,\n",
    "        \"width\": 0.2\n",
    "    },\n",
    "    \"species\": \"Iris-example\"\n",
    "}\n",
    "\n",
    "created_flower_id = create_flower(new_flower)\n",
    "\n",
    "print(\"ID:\", created_flower_id)"
   ]
  },
  {
   "cell_type": "code",
   "execution_count": 16,
   "metadata": {},
   "outputs": [
    {
     "name": "stdout",
     "output_type": "stream",
     "text": [
      "{'_id': '64c6958fd5c48ec36bd44b97',\n",
      " 'petal': {'length': 1.4, 'width': 0.2},\n",
      " 'sepal': {'length': 5.1, 'width': 3.5},\n",
      " 'species': 'Iris-example'}\n"
     ]
    }
   ],
   "source": [
    "# Find the created flower by ID\n",
    "find_flower_by_id(created_flower_id)"
   ]
  },
  {
   "cell_type": "code",
   "execution_count": 17,
   "metadata": {},
   "outputs": [
    {
     "name": "stdout",
     "output_type": "stream",
     "text": [
      "{'_id': '64c6958fd5c48ec36bd44b97',\n",
      " 'petal': {'length': 1.4, 'width': 0.2},\n",
      " 'sepal': {'length': 5.1, 'width': 9.0},\n",
      " 'species': 'Iris-example-updated'}\n"
     ]
    }
   ],
   "source": [
    "update_fields = {\n",
    "        \"sepal\": {\n",
    "            \"width\": 9\n",
    "        },\n",
    "        \"species\": \"Iris-example-updated\"\n",
    "    }\n",
    "\n",
    "# Update the created flower by ID\n",
    "update_flower_by_id(created_flower_id, update_fields)"
   ]
  },
  {
   "cell_type": "code",
   "execution_count": 18,
   "metadata": {},
   "outputs": [
    {
     "name": "stdout",
     "output_type": "stream",
     "text": [
      "{'_id': '64c6958fd5c48ec36bd44b97',\n",
      " 'petal': {'length': 1.4, 'width': 0.2},\n",
      " 'sepal': {'length': 5.1, 'width': 9.0},\n",
      " 'species': 'Iris-example-updated'}\n"
     ]
    }
   ],
   "source": [
    "# Find the updated flower by ID\n",
    "find_flower_by_id(created_flower_id)"
   ]
  },
  {
   "cell_type": "code",
   "execution_count": 19,
   "metadata": {},
   "outputs": [
    {
     "name": "stdout",
     "output_type": "stream",
     "text": [
      "Flower with ID 64c6958fd5c48ec36bd44b97 has been deleted successfully.\n"
     ]
    }
   ],
   "source": [
    "# Delete the updated flower by ID\n",
    "delete_flower_by_id(created_flower_id)"
   ]
  },
  {
   "cell_type": "code",
   "execution_count": 20,
   "metadata": {},
   "outputs": [
    {
     "name": "stdout",
     "output_type": "stream",
     "text": [
      "{'detail': 'Flower with ID 64c6958fd5c48ec36bd44b97 not found'}\n"
     ]
    }
   ],
   "source": [
    "# Check if the flower is no longer found\n",
    "find_flower_by_id(created_flower_id)"
   ]
  }
 ],
 "metadata": {
  "kernelspec": {
   "display_name": "pymongo-fastapi",
   "language": "python",
   "name": "pymongo-fastapi"
  },
  "language_info": {
   "codemirror_mode": {
    "name": "ipython",
    "version": 3
   },
   "file_extension": ".py",
   "mimetype": "text/x-python",
   "name": "python",
   "nbconvert_exporter": "python",
   "pygments_lexer": "ipython3",
   "version": "3.9.5"
  },
  "orig_nbformat": 4
 },
 "nbformat": 4,
 "nbformat_minor": 2
}
